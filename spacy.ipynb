{
  "nbformat": 4,
  "nbformat_minor": 0,
  "metadata": {
    "colab": {
      "name": "Copy of Untitled2.ipynb",
      "provenance": []
    },
    "kernelspec": {
      "name": "python3",
      "display_name": "Python 3"
    }
  },
  "cells": [
    {
      "cell_type": "code",
      "metadata": {
        "colab": {
          "base_uri": "https://localhost:8080/"
        },
        "id": "QHsrZaxng0Co",
        "outputId": "60ca18a2-4839-43b8-86ec-04019a20a0af"
      },
      "source": [
        "from spacy.lang.en import English\n",
        "#create a nlp object\n",
        "nlp = English()\n",
        "\n",
        "# Process a sample text\n",
        "doc = nlp(\"The world is a better place with the application of science and technology.\")\n",
        "\n",
        "# Print the text\n",
        "print(doc.text)"
      ],
      "execution_count": null,
      "outputs": [
        {
          "output_type": "stream",
          "text": [
            "The world is a better place with the application of science and technology.\n"
          ],
          "name": "stdout"
        }
      ]
    },
    {
      "cell_type": "code",
      "metadata": {
        "colab": {
          "base_uri": "https://localhost:8080/"
        },
        "id": "Cf4I4ZpAh2cU",
        "outputId": "c1e09a88-c4d9-494f-fd5e-8e2608c11547"
      },
      "source": [
        "# Import the German language class\n",
        "from spacy.lang.de import German\n",
        "\n",
        "# Create a nlp object\n",
        "nlp = German()\n",
        "\n",
        "# Process a text.\n",
        "doc = nlp(\"Die Welt ist ein besserer Ort für die Anwendung von Wissenschaft und Technologie.\")\n",
        "\n",
        "# Print the text\n",
        "print(doc.text)"
      ],
      "execution_count": null,
      "outputs": [
        {
          "output_type": "stream",
          "text": [
            "Die Welt ist ein besserer Ort für die Anwendung von Wissenschaft und Technologie.\n"
          ],
          "name": "stdout"
        }
      ]
    },
    {
      "cell_type": "code",
      "metadata": {
        "colab": {
          "base_uri": "https://localhost:8080/"
        },
        "id": "t6s-7BjoiM2X",
        "outputId": "80c9d03f-630a-4b2b-d8fd-38bbb5b664e2"
      },
      "source": [
        "from spacy.lang.es import Spanish\n",
        "\n",
        "# Create the nlp object\n",
        "nlp = Spanish()\n",
        "\n",
        "# Process a text\n",
        "doc = nlp(\"El mundo es un lugar mejor con la aplicación de la ciencia y la tecnología.\")\n",
        "\n",
        "#Print the text\n",
        "print(doc)"
      ],
      "execution_count": null,
      "outputs": [
        {
          "output_type": "stream",
          "text": [
            "El mundo es un lugar mejor con la aplicación de la ciencia y la tecnología.\n"
          ],
          "name": "stdout"
        }
      ]
    },
    {
      "cell_type": "code",
      "metadata": {
        "colab": {
          "base_uri": "https://localhost:8080/"
        },
        "id": "Rl2JjgqciM7n",
        "outputId": "29770fe0-dd71-467f-971c-139ff5a501b9"
      },
      "source": [
        "from spacy.lang.en import English\n",
        "#create a nlp object\n",
        "nlp = English()\n",
        "\n",
        "# Process a sample text\n",
        "doc = nlp(\"The world is a better place with the application of science and technology.\")\n",
        "\n",
        "# Print the text\n",
        "print(doc.text)\n",
        "\n",
        "# Select the first token\n",
        "first_token = doc[0]\n",
        "# Print the first token\n",
        "print(\"First word: \", first_token.text)\n",
        "\n",
        "# A slice of the Doc for \"tree kangaroos\"\n",
        "a_better_place = doc[3:6]\n",
        "print(\"The world: \", a_better_place.text)\n",
        "\n",
        "# A slice of the Doc for \"tree kangaroos and narwhales\" (without the '.')\n",
        "the_world = doc[2:13]\n",
        "print(\"The World: \", the_world.text)"
      ],
      "execution_count": null,
      "outputs": [
        {
          "output_type": "stream",
          "text": [
            "The world is a better place with the application of science and technology.\n",
            "First word:  The\n",
            "The world:  a better place\n",
            "The World:  is a better place with the application of science and technology\n"
          ],
          "name": "stdout"
        }
      ]
    },
    {
      "cell_type": "code",
      "metadata": {
        "colab": {
          "base_uri": "https://localhost:8080/"
        },
        "id": "xfvdEAXUjgzr",
        "outputId": "43eac175-1a92-4c56-c1be-0e165fa49867"
      },
      "source": [
        "from spacy.lang.en import English\n",
        "\n",
        "nlp = English()\n",
        "\n",
        "# Process the text\n",
        "doc = nlp(\n",
        "    \"The world is a better place with the application of science and technology.\"\n",
        "    \"In 1990, more than 60% of people in East Asia were in extreme poverty. \"\n",
        "    \"Now less than 4% are.\"\n",
        ")\n",
        "\n",
        "# Iterate over the tokens in the doc\n",
        "for token in doc:\n",
        "    # Check if the token resembles a number using `like_num` token attribute\n",
        "    if token.like_num: \n",
        "        # Get the next token in the document\n",
        "        # The index of the next token in the `doc` is `token.i + 1`\n",
        "        next_token = doc[token.i + 1]\n",
        "        # Check if the next token's text equals \"%\"\n",
        "        if next_token.text == \"%\":\n",
        "            print(f\"Percentage found: {token.text}%\")"
      ],
      "execution_count": null,
      "outputs": [
        {
          "output_type": "stream",
          "text": [
            "Percentage found: 60%\n",
            "Percentage found: 4%\n"
          ],
          "name": "stdout"
        }
      ]
    },
    {
      "cell_type": "code",
      "metadata": {
        "colab": {
          "base_uri": "https://localhost:8080/"
        },
        "id": "eA5BhQbhkKw1",
        "outputId": "2a2d0c65-4844-4c9f-a073-a1a1054abcff"
      },
      "source": [
        "import spacy\n",
        "\n",
        "# Load the \"en_core_web_sm\"\n",
        "nlp = spacy.load('en_core_web_sm')\n",
        "\n",
        "text = \"The world is a better place with the application of science and technology.\"\n",
        "\n",
        "# Process the text\n",
        "doc = nlp(text)\n",
        "\n",
        "# Print the document text\n",
        "print(doc.text)"
      ],
      "execution_count": null,
      "outputs": [
        {
          "output_type": "stream",
          "text": [
            "The world is a better place with the application of science and technology.\n"
          ],
          "name": "stdout"
        }
      ]
    },
    {
      "cell_type": "code",
      "metadata": {
        "colab": {
          "base_uri": "https://localhost:8080/"
        },
        "id": "1aFe3K4LkX83",
        "outputId": "c69a065e-bdd7-4b24-cf86-3a336218fec1"
      },
      "source": [
        "#Predicting linguistic annotations\n",
        "\n",
        "for token in doc:\n",
        "    token_text = token.text\n",
        "    token_pos = token.pos_\n",
        "    token_dep = token.dep_\n",
        "    \n",
        "    print(f\"{token_text:<12}{token_pos:<10}{token_dep:<10}\")\n"
      ],
      "execution_count": null,
      "outputs": [
        {
          "output_type": "stream",
          "text": [
            "The         DET       det       \n",
            "world       NOUN      nsubj     \n",
            "is          AUX       ROOT      \n",
            "a           DET       det       \n",
            "better      ADJ       amod      \n",
            "place       NOUN      attr      \n",
            "with        ADP       prep      \n",
            "the         DET       det       \n",
            "application NOUN      pobj      \n",
            "of          ADP       prep      \n",
            "science     NOUN      pobj      \n",
            "and         CCONJ     cc        \n",
            "technology  NOUN      conj      \n",
            ".           PUNCT     punct     \n"
          ],
          "name": "stdout"
        }
      ]
    },
    {
      "cell_type": "code",
      "metadata": {
        "id": "1lKd507tki2d"
      },
      "source": [
        "#Predicting named entities in context\n",
        "\n",
        "import spacy\n",
        "from spacy import displacy\n",
        "\n",
        "nlp = spacy.load('en_core_web_sm')\n",
        "text = \"The world is a better place with the application of science and technology. Natural language is ambiguous. As humans, we can easily disambiguate the meaning of linguistic units.\"\n",
        "\n",
        "doc = nlp(text)\n",
        "displacy.render(doc, style='ent')\n"
      ],
      "execution_count": null,
      "outputs": []
    },
    {
      "cell_type": "code",
      "metadata": {
        "colab": {
          "base_uri": "https://localhost:8080/"
        },
        "id": "KKEQ8oI5mXjv",
        "outputId": "09741cf4-f4ce-4a39-f833-c114d066e6b2"
      },
      "source": [
        "#Using the Matcher\n",
        "import spacy\n",
        "from spacy.matcher import Matcher\n",
        "\n",
        "nlp = spacy.load(\"en_core_web_sm\")\n",
        "doc = nlp(\"Upcoming iPhone X release date leaked as Apple reveals pre-orders\")\n",
        "\n",
        "matcher = Matcher(nlp.vocab)\n",
        "\n",
        "pattern = [{'TEXT': 'iPhone'}, {'TEXT': 'X'}]\n",
        "matcher.add('IPHONE_X_PATTERN', None, pattern)\n",
        "\n",
        "matches = matcher(doc)\n",
        "print(\"Matches:\", [doc[start:end].text for match_id, start, end in matches])"
      ],
      "execution_count": null,
      "outputs": [
        {
          "output_type": "stream",
          "text": [
            "Matches: ['iPhone X']\n"
          ],
          "name": "stdout"
        }
      ]
    },
    {
      "cell_type": "code",
      "metadata": {
        "colab": {
          "base_uri": "https://localhost:8080/"
        },
        "id": "5mXYPdulmk4X",
        "outputId": "c3920add-bc17-44e2-f837-37b5786536e2"
      },
      "source": [
        "#Writing match patterns\n",
        "\n",
        "import spacy\n",
        "from spacy.matcher import Matcher\n",
        "\n",
        "nlp = spacy.load(\"en_core_web_sm\")\n",
        "matcher = Matcher(nlp.vocab)\n",
        "\n",
        "doc = nlp(\n",
        "    \"After making the iOS update you won't notice a radical system-wide \"\n",
        "    \"redesign: nothing like the aesthetic upheaval we got with iOS 7. Most of \"\n",
        "    \"iOS 11's furniture remains the same as in iOS 10. But you will discover \"\n",
        "    \"some tweaks once you delve a little deeper.\"\n",
        ")\n",
        "\n",
        "pattern = [{\"TEXT\": \"iOS\"}, {\"IS_DIGIT\": True}]\n",
        "\n",
        "matcher.add(\"IOS_VERSION_PATTERN\", None, pattern)\n",
        "matches = matcher(doc)\n",
        "print(\"Total matches found: \", len(matches))\n",
        "\n",
        "for match_id, start, end in matches:\n",
        "    print(\"Match Found: \", doc[start:end].text)"
      ],
      "execution_count": null,
      "outputs": [
        {
          "output_type": "stream",
          "text": [
            "Total matches found:  3\n",
            "Match Found:  iOS 7\n",
            "Match Found:  iOS 11\n",
            "Match Found:  iOS 10\n"
          ],
          "name": "stdout"
        }
      ]
    },
    {
      "cell_type": "code",
      "metadata": {
        "colab": {
          "base_uri": "https://localhost:8080/"
        },
        "id": "Dk4gI6X1mzUV",
        "outputId": "f5322948-e8bf-4d21-ba0d-70970d991f9e"
      },
      "source": [
        "import spacy\n",
        "from spacy.matcher import Matcher\n",
        "\n",
        "nlp = spacy.load(\"en_core_web_sm\")\n",
        "matcher = Matcher(nlp.vocab)\n",
        "\n",
        "doc = nlp(\n",
        "    \"i downloaded Fortnite on my laptop and can't open the game at all. Help? \"\n",
        "    \"so when I was downloading Minecraft, I got the Windows version where it \"\n",
        "    \"is the '.zip' folder and I used the default program to unpack it... do \"\n",
        "    \"I also need to download Winzip?\"\n",
        ")\n",
        "\n",
        "pattern = [{'LEMMA': 'download'}, {'POS': 'PROPN'}]\n",
        "matcher.add('DOWNLOAD_THINGS_PATTERN', None, pattern)\n",
        "matches = matcher(doc)\n",
        "\n",
        "print(\"Total matches found: \", len(matches))\n",
        "\n",
        "for match_id, start, end in matches:\n",
        "    print(\"Match Found: \", doc[start:end].text)"
      ],
      "execution_count": null,
      "outputs": [
        {
          "output_type": "stream",
          "text": [
            "Total matches found:  3\n",
            "Match Found:  downloaded Fortnite\n",
            "Match Found:  downloading Minecraft\n",
            "Match Found:  download Winzip\n"
          ],
          "name": "stdout"
        }
      ]
    }
  ]
}